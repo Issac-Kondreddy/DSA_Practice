{
 "cells": [
  {
   "cell_type": "code",
   "id": "initial_id",
   "metadata": {
    "collapsed": true,
    "ExecuteTime": {
     "end_time": "2025-03-29T18:59:29.169098Z",
     "start_time": "2025-03-29T18:59:29.157069Z"
    }
   },
   "source": [
    "class GraphAdjList:\n",
    "    def __init__(self):\n",
    "        self.list = {}\n",
    "\n",
    "    def add_vertex(self, vertex):\n",
    "        if vertex not in self.list:\n",
    "            self.list[vertex] = []\n",
    "            print(f\"{vertex} added\")\n",
    "            return\n",
    "        else:\n",
    "            print(f\"{vertex} already present\")\n",
    "\n",
    "    def add_edge(self, vertex1, vertex2):\n",
    "        if vertex1 not in self.list:\n",
    "            self.add_vertex(vertex1)\n",
    "        if vertex2 not in self.list:\n",
    "            self.add_vertex(vertex2)\n",
    "        self.list[vertex1].append(vertex2)\n",
    "        self.list[vertex2].append(vertex1)\n",
    "        print(f\"Edge added between {vertex1} and {vertex2}\")\n",
    "\n",
    "    def remove_edge(self, vertex1, vertex2):\n",
    "        if vertex2 not in self.list or vertex1 not in self.list:\n",
    "            print(\"One or more vertices are missing\")\n",
    "        else:\n",
    "            if vertex1 in self.list[vertex2]:\n",
    "                self.list[vertex2].remove(vertex1)\n",
    "            if vertex2 in self.list[vertex1]:\n",
    "                self.list[vertex1].remove(vertex2)\n",
    "            print(f\"Edge removed between {vertex1} and {vertex2}\")\n",
    "\n",
    "    def remove_vertex(self, vertex):\n",
    "        if vertex in self.list:\n",
    "            for neighbor in list(self.list[vertex]):\n",
    "                self.list[neighbor].remove(vertex)\n",
    "            del self.list[vertex]\n",
    "            print(f\"{vertex} removed\")\n",
    "\n",
    "    def display(self):\n",
    "        for vertex, edges in self.list.items():\n",
    "            print(f\"{vertex}: {edges}\")\n",
    "\n",
    "    def DFS(self, start_vertex):\n",
    "        visited = set()\n",
    "        def traverse(vertex):\n",
    "            print(f\"{vertex}\", end = \"  \")\n",
    "            visited.add(vertex)\n",
    "            for neighbor in self.list[vertex]:\n",
    "                if neighbor not in visited:\n",
    "                    traverse(neighbor)\n",
    "        traverse(start_vertex)\n",
    "\n",
    "    def BFS(self, start_vertex):\n",
    "        queue = []\n",
    "        queue.append(start_vertex)\n",
    "        visited = set()\n",
    "        visited.add(start_vertex)\n",
    "        while queue:\n",
    "            current = queue.pop(0)\n",
    "            print(current, end= \" \")\n",
    "            for neighbor in self.list[current]:\n",
    "                if neighbor not in visited:\n",
    "                    queue.append(neighbor)\n",
    "                    visited.add(neighbor)\n",
    "                else:\n",
    "                    continue\n"
   ],
   "outputs": [],
   "execution_count": 10
  },
  {
   "metadata": {
    "ExecuteTime": {
     "end_time": "2025-03-29T18:59:29.983387Z",
     "start_time": "2025-03-29T18:59:29.978019Z"
    }
   },
   "cell_type": "code",
   "source": [
    "# Creating a graph instance\n",
    "graph = GraphAdjList()\n",
    "\n",
    "# Adding vertices\n",
    "graph.add_vertex('A')\n",
    "graph.add_vertex('B')\n",
    "graph.add_vertex('C')\n",
    "graph.add_vertex('D')\n",
    "graph.add_vertex('E')\n",
    "graph.add_vertex('F')\n",
    "graph.add_vertex('G')\n",
    "\n",
    "# Adding edges\n",
    "graph.add_edge('D', 'A')\n",
    "graph.add_edge('A', 'C')\n",
    "graph.add_edge('A', 'E')\n",
    "graph.add_edge('E', 'C')\n",
    "graph.add_edge('F', 'C')\n",
    "graph.add_edge('B', 'C')\n",
    "graph.add_edge('G', 'C')\n",
    "graph.add_edge('B', 'F')\n",
    "\n",
    "# Display the graph\n",
    "print(\"\\nGraph after adding vertices and edges:\")\n",
    "graph.display()\n",
    "\n",
    "# Removing an edge\n",
    "graph.remove_edge('A', 'B')\n",
    "\n",
    "# Display the graph after removing an edge\n",
    "print(\"\\nGraph after removing edge A-B:\")\n",
    "graph.display()\n",
    "\n",
    "# Removing a vertex\n",
    "graph.remove_vertex('C')\n",
    "\n",
    "# Display the graph after removing vertex C\n",
    "print(\"\\nGraph after removing vertex C:\")\n",
    "graph.display()"
   ],
   "id": "5777d92e507ed10e",
   "outputs": [
    {
     "name": "stdout",
     "output_type": "stream",
     "text": [
      "A added\n",
      "B added\n",
      "C added\n",
      "D added\n",
      "E added\n",
      "F added\n",
      "G added\n",
      "Edge added between D and A\n",
      "Edge added between A and C\n",
      "Edge added between A and E\n",
      "Edge added between E and C\n",
      "Edge added between F and C\n",
      "Edge added between B and C\n",
      "Edge added between G and C\n",
      "Edge added between B and F\n",
      "\n",
      "Graph after adding vertices and edges:\n",
      "A: ['D', 'C', 'E']\n",
      "B: ['C', 'F']\n",
      "C: ['A', 'E', 'F', 'B', 'G']\n",
      "D: ['A']\n",
      "E: ['A', 'C']\n",
      "F: ['C', 'B']\n",
      "G: ['C']\n",
      "Edge removed between A and B\n",
      "\n",
      "Graph after removing edge A-B:\n",
      "A: ['D', 'C', 'E']\n",
      "B: ['C', 'F']\n",
      "C: ['A', 'E', 'F', 'B', 'G']\n",
      "D: ['A']\n",
      "E: ['A', 'C']\n",
      "F: ['C', 'B']\n",
      "G: ['C']\n",
      "C removed\n",
      "\n",
      "Graph after removing vertex C:\n",
      "A: ['D', 'E']\n",
      "B: ['F']\n",
      "D: ['A']\n",
      "E: ['A']\n",
      "F: ['B']\n",
      "G: []\n"
     ]
    }
   ],
   "execution_count": 11
  },
  {
   "metadata": {
    "ExecuteTime": {
     "end_time": "2025-03-29T18:59:30.709902Z",
     "start_time": "2025-03-29T18:59:30.704938Z"
    }
   },
   "cell_type": "code",
   "source": [
    "graph.add_vertex('A')\n",
    "graph.add_vertex('B')\n",
    "graph.add_vertex('C')\n",
    "graph.add_vertex('D')\n",
    "graph.add_vertex('E')\n",
    "graph.add_vertex('F')\n",
    "graph.add_vertex('G')\n",
    "\n",
    "# Adding edges\n",
    "graph.add_edge('D', 'A')\n",
    "graph.add_edge('A', 'C')\n",
    "graph.add_edge('A', 'E')\n",
    "graph.add_edge('E', 'C')\n",
    "graph.add_edge('F', 'C')\n",
    "graph.add_edge('B', 'C')\n",
    "graph.add_edge('G', 'C')\n",
    "graph.add_edge('B', 'F')\n"
   ],
   "id": "59231a3b9829bb42",
   "outputs": [
    {
     "name": "stdout",
     "output_type": "stream",
     "text": [
      "A already present\n",
      "B already present\n",
      "C added\n",
      "D already present\n",
      "E already present\n",
      "F already present\n",
      "G already present\n",
      "Edge added between D and A\n",
      "Edge added between A and C\n",
      "Edge added between A and E\n",
      "Edge added between E and C\n",
      "Edge added between F and C\n",
      "Edge added between B and C\n",
      "Edge added between G and C\n",
      "Edge added between B and F\n"
     ]
    }
   ],
   "execution_count": 12
  },
  {
   "metadata": {
    "ExecuteTime": {
     "end_time": "2025-03-29T18:59:31.329491Z",
     "start_time": "2025-03-29T18:59:31.326445Z"
    }
   },
   "cell_type": "code",
   "source": "graph.DFS('D')",
   "id": "dbd80aa6bc83dd54",
   "outputs": [
    {
     "name": "stdout",
     "output_type": "stream",
     "text": [
      "D  A  E  C  F  B  G  "
     ]
    }
   ],
   "execution_count": 13
  },
  {
   "metadata": {
    "ExecuteTime": {
     "end_time": "2025-03-29T19:00:12.207789Z",
     "start_time": "2025-03-29T19:00:12.202261Z"
    }
   },
   "cell_type": "code",
   "source": "graph.BFS('D')",
   "id": "86384c4e8949a891",
   "outputs": [
    {
     "name": "stdout",
     "output_type": "stream",
     "text": [
      "D A E C F B G "
     ]
    }
   ],
   "execution_count": 16
  },
  {
   "metadata": {
    "ExecuteTime": {
     "end_time": "2025-03-29T19:01:10.240311Z",
     "start_time": "2025-03-29T19:01:10.233895Z"
    }
   },
   "cell_type": "code",
   "source": [
    "graph = GraphAdjList()\n",
    "graph.add_vertex('A')\n",
    "graph.add_vertex('B')\n",
    "graph.add_vertex('C')\n",
    "graph.add_edge('A', 'B')\n",
    "graph.add_edge('A', 'C')\n",
    "graph.add_edge('B', 'C')\n",
    "\n",
    "print(\"Graph structure:\")\n",
    "graph.display()\n",
    "\n",
    "print(\"\\nDFS Traversal:\")\n",
    "graph.DFS('B')\n",
    "\n",
    "print(\"\\nBFS Traversal:\")\n",
    "graph.BFS('B')"
   ],
   "id": "efc01d303c1b9359",
   "outputs": [
    {
     "name": "stdout",
     "output_type": "stream",
     "text": [
      "A added\n",
      "B added\n",
      "C added\n",
      "Edge added between A and B\n",
      "Edge added between A and C\n",
      "Edge added between B and C\n",
      "Graph structure:\n",
      "A: ['B', 'C']\n",
      "B: ['A', 'C']\n",
      "C: ['A', 'B']\n",
      "\n",
      "DFS Traversal:\n",
      "B  A  C  \n",
      "BFS Traversal:\n",
      "B A C "
     ]
    }
   ],
   "execution_count": 18
  },
  {
   "metadata": {},
   "cell_type": "code",
   "outputs": [],
   "execution_count": null,
   "source": "",
   "id": "f3cfdc2e4f2d6c42"
  }
 ],
 "metadata": {
  "kernelspec": {
   "display_name": "Python 3",
   "language": "python",
   "name": "python3"
  },
  "language_info": {
   "codemirror_mode": {
    "name": "ipython",
    "version": 2
   },
   "file_extension": ".py",
   "mimetype": "text/x-python",
   "name": "python",
   "nbconvert_exporter": "python",
   "pygments_lexer": "ipython2",
   "version": "2.7.6"
  }
 },
 "nbformat": 4,
 "nbformat_minor": 5
}
