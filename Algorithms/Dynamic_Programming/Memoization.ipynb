{
 "cells": [
  {
   "cell_type": "code",
   "id": "initial_id",
   "metadata": {
    "collapsed": true,
    "ExecuteTime": {
     "end_time": "2025-04-04T14:09:23.510392Z",
     "start_time": "2025-04-04T14:09:23.506352Z"
    }
   },
   "source": [
    "def F(n):\n",
    "    print('Computing F('+str(n)+')')\n",
    "    if n <= 1:\n",
    "        return n\n",
    "    else:\n",
    "        return F(n - 1) + F(n - 2)\n",
    "\n",
    "print('F(6) = ',F(6))"
   ],
   "outputs": [
    {
     "name": "stdout",
     "output_type": "stream",
     "text": [
      "Computing F(6)\n",
      "Computing F(5)\n",
      "Computing F(4)\n",
      "Computing F(3)\n",
      "Computing F(2)\n",
      "Computing F(1)\n",
      "Computing F(0)\n",
      "Computing F(1)\n",
      "Computing F(2)\n",
      "Computing F(1)\n",
      "Computing F(0)\n",
      "Computing F(3)\n",
      "Computing F(2)\n",
      "Computing F(1)\n",
      "Computing F(0)\n",
      "Computing F(1)\n",
      "Computing F(4)\n",
      "Computing F(3)\n",
      "Computing F(2)\n",
      "Computing F(1)\n",
      "Computing F(0)\n",
      "Computing F(1)\n",
      "Computing F(2)\n",
      "Computing F(1)\n",
      "Computing F(0)\n",
      "F(6) =  8\n"
     ]
    }
   ],
   "execution_count": 1
  },
  {
   "metadata": {
    "ExecuteTime": {
     "end_time": "2025-04-04T14:18:17.608719Z",
     "start_time": "2025-04-04T14:18:17.602785Z"
    }
   },
   "cell_type": "code",
   "source": [
    "\"\"\"Memoization is like storing the value of computation so that\n",
    "there is no need to compute the same computation again if it came across\n",
    "instead we check what we stored\n",
    "this way we avoid duplicate computation\n",
    "Memoization is like a case added to recursion to avoid duplicate computation\n",
    "\"\"\""
   ],
   "id": "893c143a8f394832",
   "outputs": [
    {
     "data": {
      "text/plain": [
       "'Memoization is like storing the value of computation so that\\nthere is no need to compute the same computation again if it came across\\ninstead we check what we stored\\nthis way we avoid duplicate computation\\nMemoization is like a case added to recursion to avoid duplicate computation\\n'"
      ]
     },
     "execution_count": 3,
     "metadata": {},
     "output_type": "execute_result"
    }
   ],
   "execution_count": 3
  },
  {
   "metadata": {
    "ExecuteTime": {
     "end_time": "2025-04-04T19:58:57.060543Z",
     "start_time": "2025-04-04T19:58:57.051509Z"
    }
   },
   "cell_type": "code",
   "source": [
    "#fibonacci Series using memoization\n",
    "\n",
    "def fib(n, memo={}):\n",
    "    if n<=1:\n",
    "        return n\n",
    "    if n in memo:\n",
    "        return memo[n]\n",
    "    else:\n",
    "        memo[n] = fib(n-1, memo) + fib(n-2, memo)\n",
    "        return memo[n]\n",
    "\n",
    "print(fib(6))\n",
    "print(fib(30))"
   ],
   "id": "144a7f4a7d84b5e6",
   "outputs": [
    {
     "name": "stdout",
     "output_type": "stream",
     "text": [
      "8\n",
      "832040\n"
     ]
    }
   ],
   "execution_count": 1
  },
  {
   "metadata": {
    "ExecuteTime": {
     "end_time": "2025-04-04T20:07:53.406122Z",
     "start_time": "2025-04-04T20:07:53.401799Z"
    }
   },
   "cell_type": "code",
   "source": [
    "#climbing stairs\n",
    "def climb_stair(n, memo={}):\n",
    "    if n in memo:\n",
    "        return memo[n]\n",
    "    if n<=1:\n",
    "        return 1\n",
    "    memo[n] = climb_stair(n-1, memo) + climb_stair(n-2, memo)\n",
    "    return memo[n]\n",
    "\n",
    "print(climb_stair(4))\n"
   ],
   "id": "c38b77c8874363d8",
   "outputs": [
    {
     "name": "stdout",
     "output_type": "stream",
     "text": [
      "5\n"
     ]
    }
   ],
   "execution_count": 5
  },
  {
   "metadata": {
    "ExecuteTime": {
     "end_time": "2025-04-04T20:24:17.482475Z",
     "start_time": "2025-04-04T20:24:17.480264Z"
    }
   },
   "cell_type": "code",
   "source": [
    "#unique paths in a grid\n",
    "def unique_path(i, j, memo={}):\n",
    "    if (i,j) in memo:\n",
    "        return memo[(i,j)]\n",
    "    if i==0 or j==0:\n",
    "        return 1\n",
    "    memo[(i,j)] = unique_path(i-1, j, memo) + unique_path(i, j-1, memo)\n",
    "    return memo[(i, j)]\n",
    "\n",
    "print(unique_path(3,3))"
   ],
   "id": "c7f00ad42327aaf",
   "outputs": [
    {
     "name": "stdout",
     "output_type": "stream",
     "text": [
      "6\n"
     ]
    }
   ],
   "execution_count": 12
  },
  {
   "metadata": {
    "ExecuteTime": {
     "end_time": "2025-04-04T20:41:14.636718Z",
     "start_time": "2025-04-04T20:41:14.631821Z"
    }
   },
   "cell_type": "code",
   "source": [
    "#subset sum\n",
    "def subset_sum(arr, index, target, memo = {}):\n",
    "    if index<0 or target<0:\n",
    "        return False\n",
    "    if target == 0:\n",
    "        return True\n",
    "    if (index, target) in memo:\n",
    "        return True\n",
    "    include = subset_sum(arr, index-1, target-arr[index], memo)\n",
    "    exclude = subset_sum(arr, index-1, target, memo)\n",
    "    memo[(index, target)] = include or exclude\n",
    "    return memo[(index, target)]\n",
    "\n",
    "arr = [3, 34, 4, 12, 5, 2]\n",
    "target = 9\n",
    "\n",
    "print(subset_sum(arr, len(arr) - 1, target))"
   ],
   "id": "1ce5a107a004e928",
   "outputs": [
    {
     "name": "stdout",
     "output_type": "stream",
     "text": [
      "True\n"
     ]
    }
   ],
   "execution_count": 19
  },
  {
   "metadata": {},
   "cell_type": "code",
   "outputs": [],
   "execution_count": null,
   "source": "",
   "id": "fa428c982d05ee84"
  }
 ],
 "metadata": {
  "kernelspec": {
   "display_name": "Python 3",
   "language": "python",
   "name": "python3"
  },
  "language_info": {
   "codemirror_mode": {
    "name": "ipython",
    "version": 2
   },
   "file_extension": ".py",
   "mimetype": "text/x-python",
   "name": "python",
   "nbconvert_exporter": "python",
   "pygments_lexer": "ipython2",
   "version": "2.7.6"
  }
 },
 "nbformat": 4,
 "nbformat_minor": 5
}
